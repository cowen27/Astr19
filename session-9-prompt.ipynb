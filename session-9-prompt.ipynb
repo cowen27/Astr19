{
 "cells": [
  {
   "cell_type": "code",
   "execution_count": null,
   "id": "5d4093c5",
   "metadata": {},
   "outputs": [],
   "source": [
    "import numpy as np\n",
    "import matplotlib.pyplot as plt"
   ]
  },
  {
   "cell_type": "code",
   "execution_count": null,
   "id": "1f6b6cbb",
   "metadata": {},
   "outputs": [],
   "source": [
    "nums = np.random.uniform(0, 1, 1000)"
   ]
  },
  {
   "cell_type": "code",
   "execution_count": null,
   "id": "e3e3796a",
   "metadata": {},
   "outputs": [],
   "source": [
    "plt.hist(nums, 100)\n",
    "plt.xlabel('Numbers')\n",
    "plt.ylabel('# of Occurrences')\n",
    "plt.savefig('prompt-9-fig.pdf')"
   ]
  }
 ],
 "metadata": {
  "kernelspec": {
   "display_name": "Python 3 (ipykernel)",
   "language": "python",
   "name": "python3"
  },
  "language_info": {
   "codemirror_mode": {
    "name": "ipython",
    "version": 3
   },
   "file_extension": ".py",
   "mimetype": "text/x-python",
   "name": "python",
   "nbconvert_exporter": "python",
   "pygments_lexer": "ipython3",
   "version": "3.10.4"
  }
 },
 "nbformat": 4,
 "nbformat_minor": 5
}
