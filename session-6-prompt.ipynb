{
 "cells": [
  {
   "cell_type": "code",
   "execution_count": null,
   "id": "642ffec3",
   "metadata": {},
   "outputs": [],
   "source": [
    "import numpy as np"
   ]
  },
  {
   "cell_type": "code",
   "execution_count": null,
   "id": "9fe808dc",
   "metadata": {},
   "outputs": [],
   "source": [
    "#returns sin(x)\n",
    "def sin(x):\n",
    "    return np.sin(x)"
   ]
  },
  {
   "cell_type": "code",
   "execution_count": null,
   "id": "c2b165eb",
   "metadata": {},
   "outputs": [],
   "source": [
    "#returns cos(x)\n",
    "def cos(x):\n",
    "    return np.cos(x)"
   ]
  },
  {
   "cell_type": "code",
   "execution_count": null,
   "id": "1d242cf8",
   "metadata": {},
   "outputs": [],
   "source": [
    "#returns a list of triples that each contain x, sin(x), and cos(x)\n",
    "def tabulate():\n",
    "    x_vals = np.linspace(0, 2*np.pi, 1000).astype(list)\n",
    "    result = []\n",
    "    for x in x_vals:\n",
    "        result.append((x, sin(x), cos(x)))\n",
    "    \n",
    "    return result"
   ]
  },
  {
   "cell_type": "code",
   "execution_count": null,
   "id": "6b18010d",
   "metadata": {},
   "outputs": [],
   "source": [
    "#prints tabulated values of x\n",
    "def print_table(vals):\n",
    "    print('x           |            sin(x)            |            cos(x)')\n",
    "    for i in range(10):\n",
    "        print(f'{vals[i][0]}    |    {vals[i][1]}    |    {vals[i][2]}')"
   ]
  },
  {
   "cell_type": "code",
   "execution_count": null,
   "id": "95da3311",
   "metadata": {},
   "outputs": [],
   "source": [
    "#runs the program\n",
    "def main():\n",
    "    vals = tabulate()\n",
    "    print_table(vals)"
   ]
  },
  {
   "cell_type": "code",
   "execution_count": null,
   "id": "0602c8a6",
   "metadata": {},
   "outputs": [],
   "source": [
    "if __name__ == '__main__':\n",
    "    main()"
   ]
  },
  {
   "cell_type": "code",
   "execution_count": null,
   "id": "2666f94a",
   "metadata": {},
   "outputs": [],
   "source": []
  }
 ],
 "metadata": {
  "kernelspec": {
   "display_name": "Python 3 (ipykernel)",
   "language": "python",
   "name": "python3"
  },
  "language_info": {
   "codemirror_mode": {
    "name": "ipython",
    "version": 3
   },
   "file_extension": ".py",
   "mimetype": "text/x-python",
   "name": "python",
   "nbconvert_exporter": "python",
   "pygments_lexer": "ipython3",
   "version": "3.10.4"
  }
 },
 "nbformat": 4,
 "nbformat_minor": 5
}
